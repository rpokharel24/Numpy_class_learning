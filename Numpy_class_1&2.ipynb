{
 "cells": [
  {
   "cell_type": "markdown",
   "id": "05854f16-afed-4e3e-ac80-077a8c8ff286",
   "metadata": {},
   "source": [
    "## Numpy Functions"
   ]
  },
  {
   "cell_type": "code",
   "execution_count": 2,
   "id": "41d152c0-5c02-4e2f-9f8d-b1cf4ca268bd",
   "metadata": {},
   "outputs": [],
   "source": [
    "import numpy as np"
   ]
  },
  {
   "cell_type": "code",
   "execution_count": 22,
   "id": "75e90c9e-ff56-4cd0-8be3-eb1304d546e9",
   "metadata": {},
   "outputs": [],
   "source": [
    "arr=np.array((34,45,67,89))"
   ]
  },
  {
   "cell_type": "code",
   "execution_count": 24,
   "id": "5428ba52-9dd2-42ad-a218-f31617153c99",
   "metadata": {},
   "outputs": [
    {
     "data": {
      "text/plain": [
       "array([34, 45, 67, 89])"
      ]
     },
     "execution_count": 24,
     "metadata": {},
     "output_type": "execute_result"
    }
   ],
   "source": [
    "arr"
   ]
  },
  {
   "cell_type": "code",
   "execution_count": 26,
   "id": "176c9eab-8368-4cd4-8d1c-b6084913468c",
   "metadata": {},
   "outputs": [
    {
     "name": "stdout",
     "output_type": "stream",
     "text": [
      "[34 45 67 89]\n"
     ]
    }
   ],
   "source": [
    "print(arr)"
   ]
  },
  {
   "cell_type": "code",
   "execution_count": 20,
   "id": "72f8566a-c74a-41ca-b6e7-62b7c156864c",
   "metadata": {},
   "outputs": [
    {
     "data": {
      "text/plain": [
       "'1.26.4'"
      ]
     },
     "execution_count": 20,
     "metadata": {},
     "output_type": "execute_result"
    }
   ],
   "source": [
    "np.__version__"
   ]
  },
  {
   "cell_type": "code",
   "execution_count": 28,
   "id": "4d4f794d-e966-47cb-a814-2b7fa4797e8c",
   "metadata": {},
   "outputs": [
    {
     "data": {
      "text/plain": [
       "235"
      ]
     },
     "execution_count": 28,
     "metadata": {},
     "output_type": "execute_result"
    }
   ],
   "source": [
    "arr.sum()"
   ]
  },
  {
   "cell_type": "code",
   "execution_count": 30,
   "id": "37653beb-a984-4255-abd2-a495e5f8b45b",
   "metadata": {},
   "outputs": [],
   "source": [
    "arr=np.array((34,45,67,8))"
   ]
  },
  {
   "cell_type": "code",
   "execution_count": 32,
   "id": "dc39e352-50e2-46bb-b5f2-b8854139cb3d",
   "metadata": {},
   "outputs": [
    {
     "data": {
      "text/plain": [
       "154"
      ]
     },
     "execution_count": 32,
     "metadata": {},
     "output_type": "execute_result"
    }
   ],
   "source": [
    "arr.sum()"
   ]
  },
  {
   "cell_type": "code",
   "execution_count": 34,
   "id": "16bd0f1a-bfe0-4e58-a53e-4f76f0302a7f",
   "metadata": {},
   "outputs": [
    {
     "data": {
      "text/plain": [
       "dtype('int32')"
      ]
     },
     "execution_count": 34,
     "metadata": {},
     "output_type": "execute_result"
    }
   ],
   "source": [
    "arr.dtype"
   ]
  },
  {
   "cell_type": "markdown",
   "id": "11079747-6c93-478c-8fed-b9803370b09b",
   "metadata": {},
   "source": [
    "### Dimensions in numpy array"
   ]
  },
  {
   "cell_type": "code",
   "execution_count": 37,
   "id": "cb90693c-7759-4938-848d-e764cf27b0ff",
   "metadata": {},
   "outputs": [],
   "source": [
    "a=np.array(45)"
   ]
  },
  {
   "cell_type": "code",
   "execution_count": 39,
   "id": "8881dca7-875b-41f3-8b46-2487e237da37",
   "metadata": {},
   "outputs": [],
   "source": [
    "b=np.array((45,65))"
   ]
  },
  {
   "cell_type": "code",
   "execution_count": 41,
   "id": "5be0b74c-a5f8-4f0e-8c04-928c0615b740",
   "metadata": {},
   "outputs": [],
   "source": [
    "c=np.array(((45,60),(78,90)))"
   ]
  },
  {
   "cell_type": "code",
   "execution_count": 53,
   "id": "32a3dc62-ea6f-4fb8-b9fc-28861e1fa03a",
   "metadata": {},
   "outputs": [
    {
     "data": {
      "text/plain": [
       "0"
      ]
     },
     "execution_count": 53,
     "metadata": {},
     "output_type": "execute_result"
    }
   ],
   "source": [
    "a.ndim"
   ]
  },
  {
   "cell_type": "code",
   "execution_count": 55,
   "id": "2124f661-45a1-4b50-9e61-fa89a6159687",
   "metadata": {},
   "outputs": [
    {
     "data": {
      "text/plain": [
       "2"
      ]
     },
     "execution_count": 55,
     "metadata": {},
     "output_type": "execute_result"
    }
   ],
   "source": [
    "c.ndim"
   ]
  },
  {
   "cell_type": "code",
   "execution_count": 61,
   "id": "135eb32c-1b37-4062-8b51-3d6ca5f5795c",
   "metadata": {},
   "outputs": [
    {
     "data": {
      "text/plain": [
       "1"
      ]
     },
     "execution_count": 61,
     "metadata": {},
     "output_type": "execute_result"
    }
   ],
   "source": [
    "b.ndim"
   ]
  },
  {
   "cell_type": "code",
   "execution_count": 63,
   "id": "4f134e2d-1386-4927-a85a-6988ab14f1f0",
   "metadata": {},
   "outputs": [],
   "source": [
    "d=np.array(((45,60),(78,90)))"
   ]
  },
  {
   "cell_type": "code",
   "execution_count": 65,
   "id": "b146d1e8-e1d3-4155-8be2-0b1024ee5674",
   "metadata": {},
   "outputs": [
    {
     "name": "stdout",
     "output_type": "stream",
     "text": [
      "45\n"
     ]
    }
   ],
   "source": [
    "print(a)"
   ]
  },
  {
   "cell_type": "code",
   "execution_count": 69,
   "id": "1660ccc4-1355-44c9-b10c-64218790f9e3",
   "metadata": {},
   "outputs": [
    {
     "name": "stdout",
     "output_type": "stream",
     "text": [
      "[45 65]\n"
     ]
    }
   ],
   "source": [
    "print(b)"
   ]
  },
  {
   "cell_type": "code",
   "execution_count": 71,
   "id": "3c8c6cbe-8954-491a-9755-5aa6342faa94",
   "metadata": {},
   "outputs": [
    {
     "name": "stdout",
     "output_type": "stream",
     "text": [
      "[[45 60]\n",
      " [78 90]]\n"
     ]
    }
   ],
   "source": [
    "print(c)"
   ]
  },
  {
   "cell_type": "code",
   "execution_count": 73,
   "id": "3d7251b8-984f-4cda-9085-f0d4d0e9e50d",
   "metadata": {},
   "outputs": [
    {
     "name": "stdout",
     "output_type": "stream",
     "text": [
      "[45 65]\n"
     ]
    }
   ],
   "source": [
    "print(b)"
   ]
  },
  {
   "cell_type": "markdown",
   "id": "907148c0-b221-4c74-bf83-e2a10fa5da55",
   "metadata": {},
   "source": [
    "### Array Indexing in Numpy"
   ]
  },
  {
   "cell_type": "code",
   "execution_count": 78,
   "id": "d374f3fd-59c2-462f-8470-953980e98386",
   "metadata": {},
   "outputs": [
    {
     "data": {
      "text/plain": [
       "45"
      ]
     },
     "execution_count": 78,
     "metadata": {},
     "output_type": "execute_result"
    }
   ],
   "source": [
    "b[0]"
   ]
  },
  {
   "cell_type": "code",
   "execution_count": 80,
   "id": "f7f0077d-b124-49f8-8efb-aacffafa36a8",
   "metadata": {},
   "outputs": [
    {
     "data": {
      "text/plain": [
       "array([78, 90])"
      ]
     },
     "execution_count": 80,
     "metadata": {},
     "output_type": "execute_result"
    }
   ],
   "source": [
    "c[1]"
   ]
  },
  {
   "cell_type": "code",
   "execution_count": 82,
   "id": "fcfd6113-33a8-41bf-8592-469abe725e2e",
   "metadata": {},
   "outputs": [
    {
     "data": {
      "text/plain": [
       "60"
      ]
     },
     "execution_count": 82,
     "metadata": {},
     "output_type": "execute_result"
    }
   ],
   "source": [
    "c[0][1]"
   ]
  },
  {
   "cell_type": "code",
   "execution_count": 96,
   "id": "b883a95c-64af-4d42-b7c9-e542f4f2fae9",
   "metadata": {},
   "outputs": [],
   "source": [
    "z=np.array(([43,56,81,90,102,40],[41,54,80,99,98,97]))"
   ]
  },
  {
   "cell_type": "code",
   "execution_count": 92,
   "id": "0b164120-56cb-46a2-a518-54f93338130d",
   "metadata": {},
   "outputs": [
    {
     "data": {
      "text/plain": [
       "40"
      ]
     },
     "execution_count": 92,
     "metadata": {},
     "output_type": "execute_result"
    }
   ],
   "source": [
    "z[5]"
   ]
  },
  {
   "cell_type": "code",
   "execution_count": 98,
   "id": "766d0438-8e20-41e8-a476-3ef6e75c9fc7",
   "metadata": {},
   "outputs": [
    {
     "data": {
      "text/plain": [
       "99"
      ]
     },
     "execution_count": 98,
     "metadata": {},
     "output_type": "execute_result"
    }
   ],
   "source": [
    "z[1 , 3]"
   ]
  },
  {
   "cell_type": "code",
   "execution_count": 102,
   "id": "8e9ed9b0-ffba-4ed4-bc50-2ccb6120df9f",
   "metadata": {},
   "outputs": [
    {
     "data": {
      "text/plain": [
       "98"
      ]
     },
     "execution_count": 102,
     "metadata": {},
     "output_type": "execute_result"
    }
   ],
   "source": [
    "z[1,-2]"
   ]
  },
  {
   "cell_type": "code",
   "execution_count": 104,
   "id": "84206130-9ae1-4472-893a-d891102c3b17",
   "metadata": {},
   "outputs": [
    {
     "data": {
      "text/plain": [
       "array([56, 81])"
      ]
     },
     "execution_count": 104,
     "metadata": {},
     "output_type": "execute_result"
    }
   ],
   "source": [
    "z[0,1:3]"
   ]
  },
  {
   "cell_type": "code",
   "execution_count": 106,
   "id": "06e38a04-4b29-4981-80ed-232d025c7957",
   "metadata": {},
   "outputs": [],
   "source": [
    "y=np.array([41,54,80,99,98,97])"
   ]
  },
  {
   "cell_type": "code",
   "execution_count": 108,
   "id": "18743056-1cd4-4ba4-aafa-b98dba5a62da",
   "metadata": {},
   "outputs": [
    {
     "data": {
      "text/plain": [
       "41"
      ]
     },
     "execution_count": 108,
     "metadata": {},
     "output_type": "execute_result"
    }
   ],
   "source": [
    "y[0]"
   ]
  },
  {
   "cell_type": "code",
   "execution_count": 110,
   "id": "dee854cf-385b-4244-8404-35cb4d1b79f2",
   "metadata": {},
   "outputs": [
    {
     "data": {
      "text/plain": [
       "97"
      ]
     },
     "execution_count": 110,
     "metadata": {},
     "output_type": "execute_result"
    }
   ],
   "source": [
    "y[5]"
   ]
  },
  {
   "cell_type": "code",
   "execution_count": 112,
   "id": "a5f08850-4c20-4819-be54-b2020bae6f41",
   "metadata": {},
   "outputs": [
    {
     "data": {
      "text/plain": [
       "array([54, 80, 99, 98])"
      ]
     },
     "execution_count": 112,
     "metadata": {},
     "output_type": "execute_result"
    }
   ],
   "source": [
    "y[1:5]"
   ]
  },
  {
   "cell_type": "code",
   "execution_count": 116,
   "id": "e52695b1-1f36-40e1-a5f2-006da72422d3",
   "metadata": {},
   "outputs": [
    {
     "data": {
      "text/plain": [
       "array([54, 98])"
      ]
     },
     "execution_count": 116,
     "metadata": {},
     "output_type": "execute_result"
    }
   ],
   "source": [
    "y[1:6:3]"
   ]
  },
  {
   "cell_type": "markdown",
   "id": "1701a4ae-ef59-4951-8cdf-da0305ae68b8",
   "metadata": {},
   "source": [
    "## Data Types Numpy"
   ]
  },
  {
   "cell_type": "code",
   "execution_count": 120,
   "id": "a4306cf2-048c-4952-b66b-791e4fcd51b1",
   "metadata": {},
   "outputs": [
    {
     "data": {
      "text/plain": [
       "dtype('int32')"
      ]
     },
     "execution_count": 120,
     "metadata": {},
     "output_type": "execute_result"
    }
   ],
   "source": [
    "y.dtype"
   ]
  },
  {
   "cell_type": "code",
   "execution_count": 122,
   "id": "c73e19f5-abf4-475d-885b-d0f06c7e804a",
   "metadata": {},
   "outputs": [],
   "source": [
    "x=y=np.array([41.5,54.6,80,99,98.6])"
   ]
  },
  {
   "cell_type": "code",
   "execution_count": 124,
   "id": "194ef44a-4a1d-4bac-bc34-07b86be70041",
   "metadata": {},
   "outputs": [
    {
     "data": {
      "text/plain": [
       "dtype('float64')"
      ]
     },
     "execution_count": 124,
     "metadata": {},
     "output_type": "execute_result"
    }
   ],
   "source": [
    "x.dtype"
   ]
  },
  {
   "cell_type": "code",
   "execution_count": 136,
   "id": "48beb9d1-1dae-4bd3-81c3-3beb2f56d92f",
   "metadata": {},
   "outputs": [],
   "source": [
    "y=np.array([1+2j,5+3j,6+4j] ,dtype='complex')"
   ]
  },
  {
   "cell_type": "code",
   "execution_count": 138,
   "id": "fa4c1a02-c270-4314-a86e-6e422716550e",
   "metadata": {},
   "outputs": [
    {
     "data": {
      "text/plain": [
       "array([1.+2.j, 5.+3.j, 6.+4.j])"
      ]
     },
     "execution_count": 138,
     "metadata": {},
     "output_type": "execute_result"
    }
   ],
   "source": [
    "y"
   ]
  },
  {
   "cell_type": "code",
   "execution_count": 140,
   "id": "ce7a02e4-8efc-417a-ad44-a6c8770a2435",
   "metadata": {},
   "outputs": [
    {
     "data": {
      "text/plain": [
       "dtype('complex128')"
      ]
     },
     "execution_count": 140,
     "metadata": {},
     "output_type": "execute_result"
    }
   ],
   "source": [
    "y.dtype"
   ]
  },
  {
   "cell_type": "code",
   "execution_count": 162,
   "id": "d430026f-7f2d-4daa-967a-4fdabae79c80",
   "metadata": {},
   "outputs": [],
   "source": [
    "k=np.array([41.5,54.6,80,99,9755689],dtype='S')"
   ]
  },
  {
   "cell_type": "code",
   "execution_count": 164,
   "id": "8d1ad5d6-1474-42cd-8836-539921135961",
   "metadata": {},
   "outputs": [
    {
     "data": {
      "text/plain": [
       "dtype('S7')"
      ]
     },
     "execution_count": 164,
     "metadata": {},
     "output_type": "execute_result"
    }
   ],
   "source": [
    "k.dtype"
   ]
  },
  {
   "cell_type": "code",
   "execution_count": 154,
   "id": "a1f1c54e-3b6a-402b-b3d1-f30632ee402f",
   "metadata": {},
   "outputs": [
    {
     "data": {
      "text/plain": [
       "array([b'41.5', b'54.6', b'80', b'99', b'97'], dtype='|S4')"
      ]
     },
     "execution_count": 154,
     "metadata": {},
     "output_type": "execute_result"
    }
   ],
   "source": [
    "k"
   ]
  },
  {
   "cell_type": "code",
   "execution_count": 175,
   "id": "4da7c505-3a90-43f5-9828-60dd905a82c6",
   "metadata": {},
   "outputs": [],
   "source": [
    "ab=np.array(['abc','apple','ball'])"
   ]
  },
  {
   "cell_type": "code",
   "execution_count": 177,
   "id": "fd248504-141d-4f45-add8-5693331d9ab3",
   "metadata": {},
   "outputs": [
    {
     "data": {
      "text/plain": [
       "array(['abc', 'apple', 'ball'], dtype='<U5')"
      ]
     },
     "execution_count": 177,
     "metadata": {},
     "output_type": "execute_result"
    }
   ],
   "source": [
    "ab"
   ]
  },
  {
   "cell_type": "code",
   "execution_count": 179,
   "id": "f0b4e563-066a-442c-b2c8-cf18917eed1f",
   "metadata": {},
   "outputs": [
    {
     "name": "stdout",
     "output_type": "stream",
     "text": [
      "['abc' 'apple' 'ball']\n"
     ]
    }
   ],
   "source": [
    "print(ab)"
   ]
  },
  {
   "cell_type": "markdown",
   "id": "e3302f5a-6371-4e93-a462-5c1e6225d5d9",
   "metadata": {},
   "source": [
    "### Copy"
   ]
  },
  {
   "cell_type": "code",
   "execution_count": 171,
   "id": "a64fcb86-06b5-401e-8a6b-ab3c9d6fb792",
   "metadata": {},
   "outputs": [],
   "source": [
    "te=x.copy()"
   ]
  },
  {
   "cell_type": "code",
   "execution_count": 173,
   "id": "1b71b9b0-4ddd-440a-8826-f3f2a1ae739d",
   "metadata": {},
   "outputs": [
    {
     "data": {
      "text/plain": [
       "array([41.5, 54.6, 80. , 99. , 98.6])"
      ]
     },
     "execution_count": 173,
     "metadata": {},
     "output_type": "execute_result"
    }
   ],
   "source": [
    "te"
   ]
  },
  {
   "cell_type": "code",
   "execution_count": 187,
   "id": "72208458-b6ed-4cca-b229-a914acd57d8f",
   "metadata": {},
   "outputs": [],
   "source": [
    "te[4]=56"
   ]
  },
  {
   "cell_type": "code",
   "execution_count": 189,
   "id": "8e2dbb26-2324-49ab-884a-49c38a1f2ce8",
   "metadata": {},
   "outputs": [
    {
     "data": {
      "text/plain": [
       "array([41.5, 54.6, 80. , 99. , 56. ])"
      ]
     },
     "execution_count": 189,
     "metadata": {},
     "output_type": "execute_result"
    }
   ],
   "source": [
    "te"
   ]
  },
  {
   "cell_type": "code",
   "execution_count": 191,
   "id": "257c9ca2-aa5d-4fba-89c6-87b97d9b57ae",
   "metadata": {},
   "outputs": [
    {
     "data": {
      "text/plain": [
       "array([41.5, 54.6, 80. , 99. , 98.6])"
      ]
     },
     "execution_count": 191,
     "metadata": {},
     "output_type": "execute_result"
    }
   ],
   "source": [
    "x"
   ]
  },
  {
   "cell_type": "code",
   "execution_count": 193,
   "id": "746f2f6a-95e2-4177-9bf0-dd953152f231",
   "metadata": {},
   "outputs": [],
   "source": [
    "cd=x.view()"
   ]
  },
  {
   "cell_type": "code",
   "execution_count": 195,
   "id": "62ed0d90-84f6-4d9c-b7da-a3d44e7a37ec",
   "metadata": {},
   "outputs": [
    {
     "data": {
      "text/plain": [
       "array([41.5, 54.6, 80. , 99. , 98.6])"
      ]
     },
     "execution_count": 195,
     "metadata": {},
     "output_type": "execute_result"
    }
   ],
   "source": [
    "cd"
   ]
  },
  {
   "cell_type": "code",
   "execution_count": 197,
   "id": "9cfe986f-1778-4f17-bfc8-9dec4957af33",
   "metadata": {},
   "outputs": [
    {
     "data": {
      "text/plain": [
       "array([41.5, 54.6, 80. , 99. , 56. ])"
      ]
     },
     "execution_count": 197,
     "metadata": {},
     "output_type": "execute_result"
    }
   ],
   "source": [
    "te"
   ]
  },
  {
   "cell_type": "code",
   "execution_count": 199,
   "id": "9ab9a8e8-20d4-41c3-ad9e-fa848ceb3765",
   "metadata": {},
   "outputs": [
    {
     "data": {
      "text/plain": [
       "array([41.5, 54.6, 80. , 99. , 98.6])"
      ]
     },
     "execution_count": 199,
     "metadata": {},
     "output_type": "execute_result"
    }
   ],
   "source": [
    "x"
   ]
  },
  {
   "cell_type": "code",
   "execution_count": 201,
   "id": "e471de7d-7614-4c90-87d0-1d8ab66162a9",
   "metadata": {},
   "outputs": [],
   "source": [
    "cd[0]=20"
   ]
  },
  {
   "cell_type": "code",
   "execution_count": 203,
   "id": "ce78251a-a2f8-45ed-a24f-61793290cade",
   "metadata": {},
   "outputs": [
    {
     "data": {
      "text/plain": [
       "array([20. , 54.6, 80. , 99. , 98.6])"
      ]
     },
     "execution_count": 203,
     "metadata": {},
     "output_type": "execute_result"
    }
   ],
   "source": [
    "cd"
   ]
  },
  {
   "cell_type": "code",
   "execution_count": 205,
   "id": "80f71483-6b67-47c3-99f2-25d2d4c84cda",
   "metadata": {},
   "outputs": [
    {
     "data": {
      "text/plain": [
       "array([20. , 54.6, 80. , 99. , 98.6])"
      ]
     },
     "execution_count": 205,
     "metadata": {},
     "output_type": "execute_result"
    }
   ],
   "source": [
    "x"
   ]
  },
  {
   "cell_type": "markdown",
   "id": "6271e183-b780-407f-807c-6791e65f43c7",
   "metadata": {},
   "source": [
    "## Shape"
   ]
  },
  {
   "cell_type": "code",
   "execution_count": 208,
   "id": "a47a2a44-4030-41a5-86de-f9960fd62cde",
   "metadata": {},
   "outputs": [
    {
     "data": {
      "text/plain": [
       "(5,)"
      ]
     },
     "execution_count": 208,
     "metadata": {},
     "output_type": "execute_result"
    }
   ],
   "source": [
    "x.shape"
   ]
  },
  {
   "cell_type": "code",
   "execution_count": 210,
   "id": "b34681a2-5f9f-48ec-8768-dae7d9ee16d2",
   "metadata": {},
   "outputs": [],
   "source": [
    "z=np.array(([43,56,81,90,102,40],[41,54,80,99,98,97]))"
   ]
  },
  {
   "cell_type": "code",
   "execution_count": 214,
   "id": "036e0429-6c58-4352-b6c0-23c4e4b11f47",
   "metadata": {},
   "outputs": [
    {
     "data": {
      "text/plain": [
       "(2, 6)"
      ]
     },
     "execution_count": 214,
     "metadata": {},
     "output_type": "execute_result"
    }
   ],
   "source": [
    "z.shape"
   ]
  },
  {
   "cell_type": "code",
   "execution_count": 216,
   "id": "f1907c15-2509-4914-a3e4-e5b45ba3e35c",
   "metadata": {},
   "outputs": [
    {
     "name": "stdout",
     "output_type": "stream",
     "text": [
      "[[ 43  56  81  90 102  40]\n",
      " [ 41  54  80  99  98  97]]\n"
     ]
    }
   ],
   "source": [
    "print(z)"
   ]
  },
  {
   "cell_type": "code",
   "execution_count": 220,
   "id": "dec2275c-fed8-4d75-b648-9bb85cff42b7",
   "metadata": {},
   "outputs": [],
   "source": [
    "d=np.array((((45,60),(78,90)),((40,40),(80,80))))"
   ]
  },
  {
   "cell_type": "code",
   "execution_count": 222,
   "id": "03c1c0ef-a0e3-467c-8377-7cf3a1903b8e",
   "metadata": {},
   "outputs": [
    {
     "data": {
      "text/plain": [
       "3"
      ]
     },
     "execution_count": 222,
     "metadata": {},
     "output_type": "execute_result"
    }
   ],
   "source": [
    "d.ndim"
   ]
  },
  {
   "cell_type": "code",
   "execution_count": 224,
   "id": "a8647392-58c7-4495-beca-a2bca149a8be",
   "metadata": {},
   "outputs": [
    {
     "name": "stdout",
     "output_type": "stream",
     "text": [
      "[[[45 60]\n",
      "  [78 90]]\n",
      "\n",
      " [[40 40]\n",
      "  [80 80]]]\n"
     ]
    }
   ],
   "source": [
    "print(d)"
   ]
  },
  {
   "cell_type": "code",
   "execution_count": 226,
   "id": "31332446-e5d9-4352-a55c-bbf6f4100302",
   "metadata": {},
   "outputs": [
    {
     "data": {
      "text/plain": [
       "(2, 2, 2)"
      ]
     },
     "execution_count": 226,
     "metadata": {},
     "output_type": "execute_result"
    }
   ],
   "source": [
    "d.shape"
   ]
  },
  {
   "cell_type": "code",
   "execution_count": 235,
   "id": "82690d19-a460-44b9-82ee-031e305ebd70",
   "metadata": {},
   "outputs": [],
   "source": [
    "z=z.reshape(4,3)"
   ]
  },
  {
   "cell_type": "markdown",
   "id": "1ce7118a-d670-4cf6-abfd-f9cb8ee92b8c",
   "metadata": {},
   "source": [
    "### Array Iteration"
   ]
  },
  {
   "cell_type": "code",
   "execution_count": 237,
   "id": "e927c13c-f513-4182-bfc2-a1ca9a7ea203",
   "metadata": {},
   "outputs": [
    {
     "name": "stdout",
     "output_type": "stream",
     "text": [
      "[43 56 81]\n",
      "[ 90 102  40]\n",
      "[41 54 80]\n",
      "[99 98 97]\n"
     ]
    }
   ],
   "source": [
    "for x in z:\n",
    "    print(x)"
   ]
  },
  {
   "cell_type": "code",
   "execution_count": 239,
   "id": "e3313112-4af3-42ef-aa8b-5a8d2a131ba7",
   "metadata": {},
   "outputs": [
    {
     "name": "stdout",
     "output_type": "stream",
     "text": [
      "99\n",
      "98\n",
      "97\n"
     ]
    }
   ],
   "source": [
    "for a in x:\n",
    "    print(a)"
   ]
  },
  {
   "cell_type": "code",
   "execution_count": 249,
   "id": "44f40e2d-ded0-404c-8b3a-ee5b3f71b1dd",
   "metadata": {},
   "outputs": [
    {
     "name": "stdout",
     "output_type": "stream",
     "text": [
      "43\n",
      "56\n",
      "90\n",
      "102\n",
      "41\n",
      "54\n",
      "43\n",
      "56\n",
      "90\n",
      "102\n",
      "41\n",
      "54\n",
      "43\n",
      "56\n",
      "90\n",
      "102\n",
      "41\n",
      "54\n",
      "43\n",
      "56\n",
      "90\n",
      "102\n",
      "41\n",
      "54\n"
     ]
    }
   ],
   "source": [
    "for x in z:\n",
    "    l=len(x)\n",
    "    for i in range(l):\n",
    "        for j in range(0,l-1):\n",
    "            print(z[i][j])"
   ]
  },
  {
   "cell_type": "code",
   "execution_count": 251,
   "id": "8ffc8765-3fcb-4bb8-b97d-29360374743f",
   "metadata": {},
   "outputs": [
    {
     "name": "stdout",
     "output_type": "stream",
     "text": [
      "99\n",
      "98\n",
      "97\n"
     ]
    }
   ],
   "source": [
    "for a in x:\n",
    "    print(a)"
   ]
  },
  {
   "cell_type": "markdown",
   "id": "dfb1d9ef-17c6-4cfd-82be-4b5d4bf70569",
   "metadata": {},
   "source": [
    "### Array Join"
   ]
  },
  {
   "cell_type": "code",
   "execution_count": 254,
   "id": "e7c79802-6f2c-4f02-97dc-55123c7eb321",
   "metadata": {},
   "outputs": [],
   "source": [
    "ad=np.array([45,55,66,89])"
   ]
  },
  {
   "cell_type": "code",
   "execution_count": 256,
   "id": "a5934bf2-891d-458e-b6ca-a8f7dda7f887",
   "metadata": {},
   "outputs": [],
   "source": [
    "dc=np.array([54,78,90,99])"
   ]
  },
  {
   "cell_type": "code",
   "execution_count": 258,
   "id": "6e19ea9e-924c-4729-9bc7-af54081366ea",
   "metadata": {},
   "outputs": [
    {
     "data": {
      "text/plain": [
       "array([ 99, 133, 156, 188])"
      ]
     },
     "execution_count": 258,
     "metadata": {},
     "output_type": "execute_result"
    }
   ],
   "source": [
    "ad+dc"
   ]
  },
  {
   "cell_type": "code",
   "execution_count": 269,
   "id": "8560d94a-da08-4c9c-a399-aadafb0c6720",
   "metadata": {},
   "outputs": [
    {
     "data": {
      "text/plain": [
       "array([45, 55, 66, 89, 54, 78, 90, 99])"
      ]
     },
     "execution_count": 269,
     "metadata": {},
     "output_type": "execute_result"
    }
   ],
   "source": [
    "np.concatenate((ad,dc))"
   ]
  },
  {
   "cell_type": "code",
   "execution_count": 262,
   "id": "f68609f8-797c-49dc-9e95-c60fce50f23c",
   "metadata": {},
   "outputs": [
    {
     "data": {
      "text/plain": [
       "array([[45, 55, 66, 89],\n",
       "       [54, 78, 90, 99]])"
      ]
     },
     "execution_count": 262,
     "metadata": {},
     "output_type": "execute_result"
    }
   ],
   "source": [
    "np.vstack((ad,dc))"
   ]
  },
  {
   "cell_type": "code",
   "execution_count": 264,
   "id": "28f68f13-e6fc-4407-8e81-4bce0838538d",
   "metadata": {},
   "outputs": [
    {
     "data": {
      "text/plain": [
       "array([45, 55, 66, 89, 54, 78, 90, 99])"
      ]
     },
     "execution_count": 264,
     "metadata": {},
     "output_type": "execute_result"
    }
   ],
   "source": [
    "np.hstack((ad,dc))"
   ]
  },
  {
   "cell_type": "code",
   "execution_count": 266,
   "id": "7e6f387d-3afb-4f89-af84-d52251ec6d92",
   "metadata": {},
   "outputs": [
    {
     "data": {
      "text/plain": [
       "array([[[45, 54],\n",
       "        [55, 78],\n",
       "        [66, 90],\n",
       "        [89, 99]]])"
      ]
     },
     "execution_count": 266,
     "metadata": {},
     "output_type": "execute_result"
    }
   ],
   "source": [
    "np.dstack((ad,dc))"
   ]
  },
  {
   "cell_type": "markdown",
   "id": "d861cd4d-90e0-462f-9ee9-6e69ec0cda2b",
   "metadata": {},
   "source": [
    "### Split"
   ]
  },
  {
   "cell_type": "code",
   "execution_count": 275,
   "id": "e1d263cb-5126-46e5-8ba3-a82aca34a8a4",
   "metadata": {},
   "outputs": [
    {
     "data": {
      "text/plain": [
       "[array([45]), array([55]), array([66]), array([89])]"
      ]
     },
     "execution_count": 275,
     "metadata": {},
     "output_type": "execute_result"
    }
   ],
   "source": [
    "np.array_split(ad ,4)"
   ]
  },
  {
   "cell_type": "code",
   "execution_count": 279,
   "id": "310db368-d931-4d0f-92ea-b097a996b6ea",
   "metadata": {},
   "outputs": [],
   "source": [
    "ac=np.array(([45,56],[70,90],[60,55],[43,45],[23,22]))"
   ]
  },
  {
   "cell_type": "code",
   "execution_count": 293,
   "id": "f4e60b01-54b8-4ee2-a49e-279fce1fe6ba",
   "metadata": {},
   "outputs": [
    {
     "data": {
      "text/plain": [
       "[array([45]), array([55]), array([66]), array([89])]"
      ]
     },
     "execution_count": 293,
     "metadata": {},
     "output_type": "execute_result"
    }
   ],
   "source": [
    "np.hsplit(ad ,4)"
   ]
  },
  {
   "cell_type": "code",
   "execution_count": 299,
   "id": "ce7c9ce3-d30f-48c7-ae22-58d1c6db4899",
   "metadata": {},
   "outputs": [
    {
     "data": {
      "text/plain": [
       "[array([[45],\n",
       "        [70],\n",
       "        [60],\n",
       "        [43],\n",
       "        [23]]),\n",
       " array([[56],\n",
       "        [90],\n",
       "        [55],\n",
       "        [45],\n",
       "        [22]])]"
      ]
     },
     "execution_count": 299,
     "metadata": {},
     "output_type": "execute_result"
    }
   ],
   "source": [
    "np.hsplit(ac ,2)"
   ]
  },
  {
   "cell_type": "code",
   "execution_count": 301,
   "id": "51bbc50c-0f63-4676-bc7e-7f5cd648bdd5",
   "metadata": {},
   "outputs": [
    {
     "name": "stdout",
     "output_type": "stream",
     "text": [
      "[[45 56]\n",
      " [70 90]\n",
      " [60 55]\n",
      " [43 45]\n",
      " [23 22]]\n"
     ]
    }
   ],
   "source": [
    "print(ac)"
   ]
  },
  {
   "cell_type": "markdown",
   "id": "9dfc26e2-5822-44ef-b682-b93a8cd6dd91",
   "metadata": {},
   "source": [
    "## Numpy Search"
   ]
  },
  {
   "cell_type": "code",
   "execution_count": 304,
   "id": "5487c898-65fd-429e-bcf9-c444963e2398",
   "metadata": {},
   "outputs": [
    {
     "data": {
      "text/plain": [
       "(array([0], dtype=int64), array([1], dtype=int64))"
      ]
     },
     "execution_count": 304,
     "metadata": {},
     "output_type": "execute_result"
    }
   ],
   "source": [
    "np.where(ac==56)"
   ]
  },
  {
   "cell_type": "markdown",
   "id": "65550eef-ec4c-46e7-bba9-d88ccdf71597",
   "metadata": {},
   "source": [
    "## Sort"
   ]
  },
  {
   "cell_type": "code",
   "execution_count": null,
   "id": "53014368-9ce2-4360-bb56-9c5e13ffa74e",
   "metadata": {},
   "outputs": [],
   "source": []
  }
 ],
 "metadata": {
  "kernelspec": {
   "display_name": "Python 3 (ipykernel)",
   "language": "python",
   "name": "python3"
  },
  "language_info": {
   "codemirror_mode": {
    "name": "ipython",
    "version": 3
   },
   "file_extension": ".py",
   "mimetype": "text/x-python",
   "name": "python",
   "nbconvert_exporter": "python",
   "pygments_lexer": "ipython3",
   "version": "3.12.4"
  }
 },
 "nbformat": 4,
 "nbformat_minor": 5
}
